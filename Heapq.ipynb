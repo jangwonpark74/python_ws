{
 "cells": [
  {
   "cell_type": "code",
   "execution_count": 2,
   "id": "f6851803-e370-4cac-96ee-61419b6060df",
   "metadata": {},
   "outputs": [
    {
     "name": "stdout",
     "output_type": "stream",
     "text": [
      "[(9, 26), (8, 26), (1, 22), (7, 27), (5, 26), (1, 23), (3, 22), (6, 21), (5, 27), (1, 24), (8, 28), (3, 22), (4, 28), (8, 21), (6, 21), (4, 23), (8, 23), (8, 24), (2, 28), (1, 20)]\n"
     ]
    }
   ],
   "source": [
    "import random\n",
    "import heapq\n",
    "\n",
    "\n",
    "heap = [(random.randint(1,10), random.randint(20, 29)) for _ in range(20)]\n",
    "print(heap)\n"
   ]
  },
  {
   "cell_type": "code",
   "execution_count": 3,
   "id": "a6eb25f8-a644-46ab-8058-0c2e95771ff1",
   "metadata": {},
   "outputs": [
    {
     "name": "stdout",
     "output_type": "stream",
     "text": [
      "[(1, 20), (1, 24), (1, 22), (2, 28), (5, 26), (1, 23), (3, 22), (4, 23), (5, 27), (8, 26), (8, 28), (3, 22), (4, 28), (8, 21), (6, 21), (6, 21), (8, 23), (8, 24), (7, 27), (9, 26)]\n"
     ]
    }
   ],
   "source": [
    "heapq.heapify(heap)\n",
    "print(heap)"
   ]
  },
  {
   "cell_type": "code",
   "execution_count": 11,
   "id": "5fe06cc6-5e9d-4014-9bb5-6ade3b9c5e72",
   "metadata": {},
   "outputs": [],
   "source": [
    "for key in range(len(heap)):\n",
    "    print(heapq.heappop(heap))"
   ]
  },
  {
   "cell_type": "code",
   "execution_count": 6,
   "id": "28258347-2f4f-485a-a0c7-1aebb6776c3d",
   "metadata": {},
   "outputs": [
    {
     "name": "stdout",
     "output_type": "stream",
     "text": [
      "[42, 37, 23]\n",
      "[-4, 1, 2]\n"
     ]
    }
   ],
   "source": [
    "# Python Cookbook 3rd edition \n",
    "# Finding the Largest or Smallest N items\n",
    "\n",
    "nums = [1, 8, 2, 23, 7, -4, 18, 23, 42, 37, 2]\n",
    "print(heapq.nlargest(3, nums))\n",
    "print(heapq.nsmallest(3, nums))"
   ]
  },
  {
   "cell_type": "code",
   "execution_count": 9,
   "id": "a7bb7655-446f-46be-96ea-88b0cc7cfc2f",
   "metadata": {},
   "outputs": [],
   "source": [
    "portfolio = [\n",
    "    {'name': 'IBM', 'shares': 100, 'price': 91.1},\n",
    "    {'name': 'AAPL', 'shares': 50, 'price': 543.22},\n",
    "    {'name': 'FB', 'shares': 200, 'price': 21.09},\n",
    "    {'name' : 'HPQ', 'shares': 35, 'price': 31.75}\n",
    "]\n",
    "\n",
    "cheap = heapq.nsmallest(3, portfolio, key=lambda s: s['price'])"
   ]
  },
  {
   "cell_type": "code",
   "execution_count": 10,
   "id": "14d536d7-e4af-4eaa-bb1a-595bc3985144",
   "metadata": {},
   "outputs": [
    {
     "name": "stdout",
     "output_type": "stream",
     "text": [
      "[{'name': 'FB', 'shares': 200, 'price': 21.09}, {'name': 'HPQ', 'shares': 35, 'price': 31.75}, {'name': 'IBM', 'shares': 100, 'price': 91.1}]\n"
     ]
    }
   ],
   "source": [
    "print(cheap)"
   ]
  },
  {
   "cell_type": "code",
   "execution_count": null,
   "id": "fb812519-2afb-452f-a102-1d0d116dbf78",
   "metadata": {},
   "outputs": [],
   "source": []
  }
 ],
 "metadata": {
  "kernelspec": {
   "display_name": "Python 3 (ipykernel)",
   "language": "python",
   "name": "python3"
  },
  "language_info": {
   "codemirror_mode": {
    "name": "ipython",
    "version": 3
   },
   "file_extension": ".py",
   "mimetype": "text/x-python",
   "name": "python",
   "nbconvert_exporter": "python",
   "pygments_lexer": "ipython3",
   "version": "3.9.5"
  }
 },
 "nbformat": 4,
 "nbformat_minor": 5
}
