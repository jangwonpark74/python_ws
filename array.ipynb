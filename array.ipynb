{
 "cells": [
  {
   "cell_type": "code",
   "execution_count": 1,
   "id": "faa23e06-14be-416b-bc32-f96c6e3fea66",
   "metadata": {},
   "outputs": [],
   "source": [
    "from array import array"
   ]
  },
  {
   "cell_type": "code",
   "execution_count": 2,
   "id": "f6dbc9b4-01cc-4248-9620-23dc6c83775f",
   "metadata": {},
   "outputs": [],
   "source": [
    "from random import random"
   ]
  },
  {
   "cell_type": "code",
   "execution_count": 4,
   "id": "6f9e9a86-67c7-491c-9495-8f437c7b3378",
   "metadata": {},
   "outputs": [],
   "source": [
    "floats = array('d', (random() for i in range(1000)))"
   ]
  },
  {
   "cell_type": "code",
   "execution_count": 6,
   "id": "8520a63d-8998-4546-a92c-a6fcc171007a",
   "metadata": {},
   "outputs": [
    {
     "data": {
      "text/plain": [
       "array('d', [0.2376488390915561, 0.04081543461084769, 0.10720423593295902, 0.781443150477179, 0.27937150015134504, 0.07189969714894462, 0.09449026270312944, 0.14728924298988044, 0.015268602827679723, 0.5006190492526459])"
      ]
     },
     "execution_count": 6,
     "metadata": {},
     "output_type": "execute_result"
    }
   ],
   "source": [
    "floats[:10]"
   ]
  },
  {
   "cell_type": "code",
   "execution_count": 7,
   "id": "ab20ef1b-1494-43a6-ab36-236399b730ae",
   "metadata": {},
   "outputs": [],
   "source": [
    "fp = open('floats.bin', 'wb')\n",
    "floats.tofile(fp)"
   ]
  },
  {
   "cell_type": "code",
   "execution_count": 9,
   "id": "db7f61b2-ac6b-41e6-bb9e-c68e3d35cd2c",
   "metadata": {},
   "outputs": [],
   "source": [
    "floats2=array('d')"
   ]
  },
  {
   "cell_type": "code",
   "execution_count": 10,
   "id": "385d694e-0559-405f-bf21-a414499feb86",
   "metadata": {},
   "outputs": [],
   "source": [
    "fp = open('floats.bin','rb')"
   ]
  },
  {
   "cell_type": "code",
   "execution_count": 11,
   "id": "45a7f467-0231-4d39-98c3-f21d1a008bad",
   "metadata": {},
   "outputs": [],
   "source": [
    "floats2.fromfile(fp, 1000)"
   ]
  },
  {
   "cell_type": "code",
   "execution_count": 12,
   "id": "be29268b-3536-4a60-b3d4-aaf8d1c8b766",
   "metadata": {},
   "outputs": [],
   "source": [
    "fp.close()"
   ]
  },
  {
   "cell_type": "code",
   "execution_count": 13,
   "id": "ffea1cca-23b8-4077-a09c-5df5db7ca81a",
   "metadata": {},
   "outputs": [
    {
     "data": {
      "text/plain": [
       "array('d', [0.2376488390915561, 0.04081543461084769, 0.10720423593295902, 0.781443150477179, 0.27937150015134504, 0.07189969714894462, 0.09449026270312944, 0.14728924298988044, 0.015268602827679723, 0.5006190492526459])"
      ]
     },
     "execution_count": 13,
     "metadata": {},
     "output_type": "execute_result"
    }
   ],
   "source": [
    "floats2[:10]"
   ]
  },
  {
   "cell_type": "code",
   "execution_count": null,
   "id": "6be3df76-1cfa-4b90-906b-30ed4ad21720",
   "metadata": {},
   "outputs": [],
   "source": []
  }
 ],
 "metadata": {
  "kernelspec": {
   "display_name": "Python 3 (ipykernel)",
   "language": "python",
   "name": "python3"
  },
  "language_info": {
   "codemirror_mode": {
    "name": "ipython",
    "version": 3
   },
   "file_extension": ".py",
   "mimetype": "text/x-python",
   "name": "python",
   "nbconvert_exporter": "python",
   "pygments_lexer": "ipython3",
   "version": "3.9.7"
  }
 },
 "nbformat": 4,
 "nbformat_minor": 5
}
