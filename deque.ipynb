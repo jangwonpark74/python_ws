{
 "cells": [
  {
   "cell_type": "code",
   "execution_count": 1,
   "id": "c58dba4a-1e5d-484f-85c9-4daf4cf737e1",
   "metadata": {},
   "outputs": [],
   "source": [
    "from collections import deque\n",
    "iterable = range(100)\n",
    "dq = deque(iterable)"
   ]
  },
  {
   "cell_type": "code",
   "execution_count": 3,
   "id": "8e3c4790-6cd3-4733-be01-770b0e0ef79d",
   "metadata": {},
   "outputs": [
    {
     "name": "stdout",
     "output_type": "stream",
     "text": [
      "99\n"
     ]
    }
   ],
   "source": [
    "print(dq.pop())"
   ]
  },
  {
   "cell_type": "code",
   "execution_count": 5,
   "id": "88809de6-8bbf-4877-af93-3412b3899f26",
   "metadata": {},
   "outputs": [
    {
     "name": "stdout",
     "output_type": "stream",
     "text": [
      "0\n"
     ]
    }
   ],
   "source": [
    "print(dq.popleft())"
   ]
  },
  {
   "cell_type": "code",
   "execution_count": 7,
   "id": "8420133c-3407-4f24-a66a-d25d44f006be",
   "metadata": {},
   "outputs": [],
   "source": [
    "dq.append(99)"
   ]
  },
  {
   "cell_type": "code",
   "execution_count": 8,
   "id": "73df25c6-7470-4ca7-b6eb-db605edc8444",
   "metadata": {},
   "outputs": [
    {
     "name": "stdout",
     "output_type": "stream",
     "text": [
      "99\n"
     ]
    }
   ],
   "source": [
    "print(dq.pop())"
   ]
  },
  {
   "cell_type": "code",
   "execution_count": 10,
   "id": "7594ccf9-01c4-43da-aec8-2459aa7dc4cc",
   "metadata": {},
   "outputs": [],
   "source": [
    "dq.appendleft(0)"
   ]
  },
  {
   "cell_type": "code",
   "execution_count": 11,
   "id": "f7906ef1-12e3-4a5d-9cd8-efd8d1f1520c",
   "metadata": {},
   "outputs": [
    {
     "name": "stdout",
     "output_type": "stream",
     "text": [
      "0\n"
     ]
    }
   ],
   "source": [
    "print(dq.popleft())"
   ]
  },
  {
   "cell_type": "code",
   "execution_count": 12,
   "id": "57e80894-8e82-4920-bcda-3d4cf0b5f800",
   "metadata": {},
   "outputs": [],
   "source": [
    "dq.extend(range(100, 200))"
   ]
  },
  {
   "cell_type": "code",
   "execution_count": 13,
   "id": "853de0e1-a108-44af-9846-15a40d324386",
   "metadata": {},
   "outputs": [
    {
     "name": "stdout",
     "output_type": "stream",
     "text": [
      "199\n"
     ]
    }
   ],
   "source": [
    "print(dq.pop())"
   ]
  },
  {
   "cell_type": "code",
   "execution_count": 14,
   "id": "8e3fae60-3d5e-4673-9daa-033e32135d6d",
   "metadata": {},
   "outputs": [
    {
     "name": "stdout",
     "output_type": "stream",
     "text": [
      "98\n"
     ]
    }
   ],
   "source": [
    "print(dq.index(100))"
   ]
  },
  {
   "cell_type": "code",
   "execution_count": 15,
   "id": "c872a8c8-3a48-4a3e-803f-dd3aa4671568",
   "metadata": {},
   "outputs": [],
   "source": [
    "dq.insert(1, 0)"
   ]
  },
  {
   "cell_type": "code",
   "execution_count": 16,
   "id": "04ba4f5a-1fb1-47d4-b4ed-fbc7299d20b8",
   "metadata": {},
   "outputs": [
    {
     "name": "stdout",
     "output_type": "stream",
     "text": [
      "1\n"
     ]
    }
   ],
   "source": [
    "print(dq.index(0))"
   ]
  },
  {
   "cell_type": "code",
   "execution_count": 18,
   "id": "56175553-59a0-4b40-99dd-b93637865568",
   "metadata": {},
   "outputs": [],
   "source": [
    "dq.rotate(1)"
   ]
  },
  {
   "cell_type": "code",
   "execution_count": 19,
   "id": "1a7ed45c-b6f5-407b-9636-24b53660dd1e",
   "metadata": {},
   "outputs": [
    {
     "name": "stdout",
     "output_type": "stream",
     "text": [
      "deque([198, 1, 0, 2, 3, 4, 5, 6, 7, 8, 9, 10, 11, 12, 13, 14, 15, 16, 17, 18, 19, 20, 21, 22, 23, 24, 25, 26, 27, 28, 29, 30, 31, 32, 33, 34, 35, 36, 37, 38, 39, 40, 41, 42, 43, 44, 45, 46, 47, 48, 49, 50, 51, 52, 53, 54, 55, 56, 57, 58, 59, 60, 61, 62, 63, 64, 65, 66, 67, 68, 69, 70, 71, 72, 73, 74, 75, 76, 77, 78, 79, 80, 81, 82, 83, 84, 85, 86, 87, 88, 89, 90, 91, 92, 93, 94, 95, 96, 97, 98, 100, 101, 102, 103, 104, 105, 106, 107, 108, 109, 110, 111, 112, 113, 114, 115, 116, 117, 118, 119, 120, 121, 122, 123, 124, 125, 126, 127, 128, 129, 130, 131, 132, 133, 134, 135, 136, 137, 138, 139, 140, 141, 142, 143, 144, 145, 146, 147, 148, 149, 150, 151, 152, 153, 154, 155, 156, 157, 158, 159, 160, 161, 162, 163, 164, 165, 166, 167, 168, 169, 170, 171, 172, 173, 174, 175, 176, 177, 178, 179, 180, 181, 182, 183, 184, 185, 186, 187, 188, 189, 190, 191, 192, 193, 194, 195, 196, 197])\n"
     ]
    }
   ],
   "source": [
    "print(dq)"
   ]
  },
  {
   "cell_type": "code",
   "execution_count": null,
   "id": "00ae42c4-0720-40a7-992b-733381a6d0a2",
   "metadata": {},
   "outputs": [],
   "source": []
  }
 ],
 "metadata": {
  "kernelspec": {
   "display_name": "Python 3 (ipykernel)",
   "language": "python",
   "name": "python3"
  },
  "language_info": {
   "codemirror_mode": {
    "name": "ipython",
    "version": 3
   },
   "file_extension": ".py",
   "mimetype": "text/x-python",
   "name": "python",
   "nbconvert_exporter": "python",
   "pygments_lexer": "ipython3",
   "version": "3.9.7"
  }
 },
 "nbformat": 4,
 "nbformat_minor": 5
}
